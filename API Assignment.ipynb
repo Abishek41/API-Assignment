{
 "cells": [
  {
   "cell_type": "markdown",
   "id": "a749708b",
   "metadata": {},
   "source": [
    "1. What is an API? Give an example, where an API is used in real life.\n",
    "\n",
    "Ans: API stands for Application Programming Interface. It is a set of programming instructions and standards for accessing a web-based software application or tool. One example of real-life API usage is the Google Maps API, which allows developers to embed it into their applications and customize the map features."
   ]
  },
  {
   "cell_type": "markdown",
   "id": "9e62bc9f",
   "metadata": {},
   "source": [
    "2. Give advantages and disadvantages of using API.\n",
    "\n",
    "Ans: Advantages of using APIs:\n",
    "\n",
    "Easy integration,\n",
    "Increased efficiency,\n",
    "Scalability\n",
    "\n",
    "Disadvantages of using APIs:\n",
    "\n",
    "Complexity,\n",
    "Dependence,\n",
    "Security risks"
   ]
  },
  {
   "cell_type": "markdown",
   "id": "7c23e7f4",
   "metadata": {},
   "source": [
    "3. What is a Web API? Differentiate between API and Web API.\n",
    "\n",
    "Ans: A Web API (Application Programming Interface) is an API accessed using HTTP protocol to facilitate communication between different software systems or applications.\n",
    "\n",
    "APIs can be used for any software application or system, including desktop applications, mobile applications, and hardware devices. APIs can be accessed using a variety of protocols, such as HTTP, TCP/IP, and UDP."
   ]
  },
  {
   "cell_type": "markdown",
   "id": "8be2e8f4",
   "metadata": {},
   "source": [
    "4. Explain REST and SOAP Architecture. Mention shortcomings of SOAP.\n",
    "\n",
    "Ans: REST is a lightweight and straightforward architecture that relies on HTTP for communication between the client and server. It uses HTTP verbs (GET, POST, PUT, DELETE) to perform CRUD (Create, Read, Update, Delete) operations on resources identified by URIs.\n",
    "\n",
    "However, SOAP is a more complex architecture that uses XML for message exchange between the client and server. \n",
    "\n",
    "SOAP has several shortcomings:\n",
    "Complexity\n",
    "Performance\n",
    "Scalability\n",
    "\n"
   ]
  },
  {
   "cell_type": "markdown",
   "id": "0057172e",
   "metadata": {},
   "source": [
    "5. Differentiate between REST and SOAP.\n",
    "\n",
    "Ans: REST is an architectural style, while SOAP is a protocol\n",
    "\n",
    "REST uses simple data formats such as JSON, XML, or plain text, while SOAP uses XML exclusively.\n",
    "\n",
    "REST is more flexible than SOAP\n",
    "\n",
    "REST is generally considered to be faster and more lightweight than SOAP"
   ]
  },
  {
   "cell_type": "code",
   "execution_count": null,
   "id": "7246de6b",
   "metadata": {},
   "outputs": [],
   "source": []
  }
 ],
 "metadata": {
  "kernelspec": {
   "display_name": "Python 3 (ipykernel)",
   "language": "python",
   "name": "python3"
  },
  "language_info": {
   "codemirror_mode": {
    "name": "ipython",
    "version": 3
   },
   "file_extension": ".py",
   "mimetype": "text/x-python",
   "name": "python",
   "nbconvert_exporter": "python",
   "pygments_lexer": "ipython3",
   "version": "3.10.8"
  }
 },
 "nbformat": 4,
 "nbformat_minor": 5
}
